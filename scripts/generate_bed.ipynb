{
 "cells": [
  {
   "cell_type": "code",
   "execution_count": 14,
   "metadata": {},
   "outputs": [],
   "source": [
    "import pandas as pd"
   ]
  },
  {
   "cell_type": "code",
   "execution_count": 26,
   "metadata": {},
   "outputs": [],
   "source": [
    "genes_to_exclude = [\"ENSG00000308881\"]"
   ]
  },
  {
   "cell_type": "code",
   "execution_count": 27,
   "metadata": {},
   "outputs": [],
   "source": [
    "ucsc_df = pd.read_csv(\n",
    "    \"../data/GSE61475/hg19-ucsc-gene.csv\",\n",
    ")\n",
    "ucsc_df = ucsc_df[[g not in genes_to_exclude for g in ucsc_df[\"geneName\"]]]\n",
    "bed12_fields = [\n",
    "    \"chrom\",\n",
    "    \"chromStart\",\n",
    "    \"chromEnd\",\n",
    "    \"name\",\n",
    "    \"score\",\n",
    "    \"strand\",\n",
    "    \"thickStart\",\n",
    "    \"thickEnd\",\n",
    "    \"itemRgb\",\n",
    "    \"blockCount\",\n",
    "    \"blockSizes\",\n",
    "    \"blockStarts\",\n",
    "]\n",
    "ucsc_df.loc[:, \"chrom\"] = ucsc_df.iloc[:, 0]\n",
    "ucsc_df.loc[:, \"score\"] = 500\n",
    "ucsc_df.loc[:, \"itemRgb\"] = \"0,0,255\"\n",
    "ucsc_df.loc[:, \"blockStarts\"] = ucsc_df.loc[:, \"chromStarts\"]\n",
    "column_order = [\n",
    "    \"chrom\",\n",
    "    \"chromStart\",\n",
    "    \"chromEnd\",\n",
    "    \"geneName\",\n",
    "    \"score\",\n",
    "    \"strand\",\n",
    "    \"thickStart\",\n",
    "    \"thickEnd\",  # thickStart is TSS\n",
    "    \"itemRgb\",\n",
    "    \"blockCount\",\n",
    "    \"blockSizes\",\n",
    "    \"blockStarts\",\n",
    "]\n",
    "ucsc_df = ucsc_df[column_order]\n",
    "ucsc_df.columns = bed12_fields\n",
    "# sort by first column alphabetically\n",
    "# sort second and third columns numerically\n",
    "ucsc_df = ucsc_df.sort_values(\n",
    "    by=[bed12_fields[0], bed12_fields[1], bed12_fields[2]],\n",
    "    ascending=[True, True, True],\n",
    ")"
   ]
  },
  {
   "cell_type": "code",
   "execution_count": null,
   "metadata": {},
   "outputs": [],
   "source": [
    "# save df to bed12 file, remove column names, tab separate\n",
    "ucsc_df.to_csv(\n",
    "    \"../data/GSE61475/hg19-ucsc-gene-sorted.bed\",\n",
    "    sep=\"\\t\",\n",
    "    header=False,\n",
    "    index=False,\n",
    ")"
   ]
  }
 ],
 "metadata": {
  "kernelspec": {
   "display_name": ".venv",
   "language": "python",
   "name": "python3"
  },
  "language_info": {
   "codemirror_mode": {
    "name": "ipython",
    "version": 3
   },
   "file_extension": ".py",
   "mimetype": "text/x-python",
   "name": "python",
   "nbconvert_exporter": "python",
   "pygments_lexer": "ipython3",
   "version": "3.12.3"
  }
 },
 "nbformat": 4,
 "nbformat_minor": 2
}
